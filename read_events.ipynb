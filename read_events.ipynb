{
 "cells": [
  {
   "cell_type": "code",
   "execution_count": 35,
   "metadata": {},
   "outputs": [
    {
     "ename": "IndexError",
     "evalue": "list index out of range",
     "output_type": "error",
     "traceback": [
      "\u001b[0;31m---------------------------------------------------------------------------\u001b[0m",
      "\u001b[0;31mIndexError\u001b[0m                                Traceback (most recent call last)",
      "\u001b[0;32m<ipython-input-35-6a3c3ce5aa6d>\u001b[0m in \u001b[0;36m<module>\u001b[0;34m()\u001b[0m\n\u001b[1;32m     26\u001b[0m \u001b[0;31m# TODO check which filename is eval and which is training\u001b[0m\u001b[0;34m\u001b[0m\u001b[0;34m\u001b[0m\u001b[0m\n\u001b[1;32m     27\u001b[0m \u001b[0;34m\u001b[0m\u001b[0m\n\u001b[0;32m---> 28\u001b[0;31m \u001b[0mtrain_loss\u001b[0m \u001b[0;34m=\u001b[0m \u001b[0mread_events\u001b[0m\u001b[0;34m(\u001b[0m\u001b[0mfilenames\u001b[0m\u001b[0;34m[\u001b[0m\u001b[0;36m0\u001b[0m\u001b[0;34m]\u001b[0m\u001b[0;34m,\u001b[0m \u001b[0;34m'loss_1'\u001b[0m\u001b[0;34m)\u001b[0m\u001b[0;34m\u001b[0m\u001b[0m\n\u001b[0m\u001b[1;32m     29\u001b[0m \u001b[0mtest_loss\u001b[0m \u001b[0;34m=\u001b[0m \u001b[0mread_events\u001b[0m\u001b[0;34m(\u001b[0m\u001b[0mfilenames\u001b[0m\u001b[0;34m[\u001b[0m\u001b[0;36m1\u001b[0m\u001b[0;34m]\u001b[0m\u001b[0;34m,\u001b[0m \u001b[0;34m'loss'\u001b[0m\u001b[0;34m)\u001b[0m\u001b[0;34m\u001b[0m\u001b[0m\n\u001b[1;32m     30\u001b[0m \u001b[0;34m\u001b[0m\u001b[0m\n",
      "\u001b[0;31mIndexError\u001b[0m: list index out of range"
     ]
    }
   ],
   "source": [
    "import os\n",
    "import numpy as np\n",
    "import tensorflow as tf\n",
    "import matplotlib.pyplot as plt\n",
    "\n",
    "#filename = 'models/regression-relu-100-100-N=256-sigma=1.000000e-01/events.out.tfevents.1516075909.mbp106.local'\n",
    "#filename = 'models/regression-relu-100-100-N=256-sigma=1.000000e-01/eval/events.out.tfevents.1516075911.mbp106.local'\n",
    "\n",
    "def read_events(filename, tag):\n",
    "    data = []\n",
    "    for e in tf.train.summary_iterator(filename):\n",
    "        for v in e.summary.value:\n",
    "            if v.tag == tag:\n",
    "                data.append((e.step, v.simple_value))\n",
    "    return np.asarray(data)\n",
    "\n",
    "filenames = []\n",
    "\n",
    "for root, dirs, files in os.walk(\"models/\"):\n",
    "    for file in files:\n",
    "        if file.startswith(\"events.out.tfevents.\"):\n",
    "            filename = os.path.join(root, file)\n",
    "            filenames.append(filename)\n",
    "            #print(filename)\n",
    "\n",
    "# TODO check which filename is eval and which is training\n",
    "            \n",
    "train_loss = read_events(filenames[0], 'loss_1')\n",
    "test_loss = read_events(filenames[1], 'loss')\n",
    "\n",
    "plt.figure(1)\n",
    "plt.clf()\n",
    "plt.semilogy(train_loss[:, 0], train_loss[:, 1], '-',\n",
    "         test_loss[:, 0], test_loss[:, 1], '-')\n",
    "plt.title('Losses')\n",
    "plt.show()"
   ]
  },
  {
   "cell_type": "code",
   "execution_count": 36,
   "metadata": {},
   "outputs": [
    {
     "data": {
      "text/plain": [
       "[]"
      ]
     },
     "execution_count": 36,
     "metadata": {},
     "output_type": "execute_result"
    }
   ],
   "source": [
    "filenames"
   ]
  },
  {
   "cell_type": "code",
   "execution_count": null,
   "metadata": {},
   "outputs": [],
   "source": []
  }
 ],
 "metadata": {
  "kernelspec": {
   "display_name": "Python 3",
   "language": "python",
   "name": "python3"
  },
  "language_info": {
   "codemirror_mode": {
    "name": "ipython",
    "version": 3
   },
   "file_extension": ".py",
   "mimetype": "text/x-python",
   "name": "python",
   "nbconvert_exporter": "python",
   "pygments_lexer": "ipython3",
   "version": "3.6.4"
  }
 },
 "nbformat": 4,
 "nbformat_minor": 2
}
